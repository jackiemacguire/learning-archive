{
  "nbformat": 4,
  "nbformat_minor": 0,
  "metadata": {
    "colab": {
      "provenance": [],
      "gpuType": "T4",
      "authorship_tag": "ABX9TyPVsFPqz7yvrxGDpQh1EjjO",
      "include_colab_link": true
    },
    "kernelspec": {
      "name": "python3",
      "display_name": "Python 3"
    },
    "language_info": {
      "name": "python"
    },
    "accelerator": "GPU"
  },
  "cells": [
    {
      "cell_type": "markdown",
      "metadata": {
        "id": "view-in-github",
        "colab_type": "text"
      },
      "source": [
        "<a href=\"https://colab.research.google.com/github/jackiemacguire/learning-archive/blob/main/MNIST_Classifier.ipynb\" target=\"_parent\"><img src=\"https://colab.research.google.com/assets/colab-badge.svg\" alt=\"Open In Colab\"/></a>"
      ]
    },
    {
      "cell_type": "code",
      "execution_count": null,
      "metadata": {
        "colab": {
          "base_uri": "https://localhost:8080/",
          "height": 1000
        },
        "id": "bYK3sQrAPRtk",
        "outputId": "053fcfb7-56c5-4c10-c117-279b157e4182"
      },
      "outputs": [
        {
          "output_type": "stream",
          "name": "stderr",
          "text": [
            "100%|██████████| 9.91M/9.91M [00:00<00:00, 19.7MB/s]\n",
            "100%|██████████| 28.9k/28.9k [00:00<00:00, 476kB/s]\n",
            "100%|██████████| 1.65M/1.65M [00:00<00:00, 4.41MB/s]\n",
            "100%|██████████| 4.54k/4.54k [00:00<00:00, 13.1MB/s]\n"
          ]
        },
        {
          "output_type": "stream",
          "name": "stdout",
          "text": [
            "Epoch [1/5], Loss: 0.4537\n",
            "Epoch [2/5], Loss: 0.2051\n",
            "Epoch [3/5], Loss: 0.1506\n",
            "Epoch [4/5], Loss: 0.1196\n",
            "Epoch [5/5], Loss: 0.1022\n",
            "Test Accuracy: 96.98%\n"
          ]
        },
        {
          "output_type": "display_data",
          "data": {
            "text/plain": [
              "<Figure size 640x480 with 1 Axes>"
            ],
            "image/png": "[encoded data removed]"
          },
          "metadata": {}
        },
        {
          "output_type": "display_data",
          "data": {
            "text/plain": [
              "<Figure size 640x480 with 1 Axes>"
            ],
            "image/png": "[encoded data removed]"
          },
          "metadata": {}
        },
        {
          "output_type": "display_data",
          "data": {
            "text/plain": [
              "<Figure size 640x480 with 1 Axes>"
            ],
            "image/png": "[encoded data removed]"
          },
          "metadata": {}
        },
        {
          "output_type": "display_data",
          "data": {
            "text/plain": [
              "<Figure size 640x480 with 1 Axes>"
            ],
            "image/png": "[encoded data removed]"
          },
          "metadata": {}
        },
        {
          "output_type": "display_data",
          "data": {
            "text/plain": [
              "<Figure size 640x480 with 1 Axes>"
            ],
            "image/png": "[encoded data removed]"
          },
          "metadata": {}
        }
      ],
      "source": [
        "# Step 1: download the dataset and installs dependencies\n",
        "import torch\n",
        "from torchvision import datasets, transforms\n",
        "import matplotlib.pyplot as plt\n",
        "import numpy as np\n",
        "import torch.nn as nn\n",
        "import torch.nn.functional as F\n",
        "import torch.optim as optim\n",
        "\n",
        "# Step 2: Transforms (convert image  to tensor) and normaize data\n",
        "    # and then load the datasets\n",
        "transform = transforms.Compose([\n",
        "    transforms.ToTensor(),\n",
        "    transforms.Normalize((0.5,), (0.5,)) #[-1,1] because it's reccomended, transforms.Normalize(mean, standard deviatiom)\n",
        "])\n",
        "\n",
        "training_dataset=datasets.MNIST(root='./data', train=True, download=True, transform=transform)\n",
        "testing_dataset=datasets.MNIST(root='./data', train=False, download=True, transform=transform)\n",
        "\n",
        "# Step 3: Prepare the data by creating loaders // need batch and shuffle\n",
        "training_loader= torch.utils.data.DataLoader(training_dataset, batch_size=64, shuffle=True)\n",
        "testing_loader= torch.utils.data.DataLoader(testing_dataset, batch_size=64, shuffle=False)\n",
        "\n",
        "# Step 4: Define the Neural Network\n",
        "\n",
        "class MNISTNet(nn.Module):\n",
        "  def __init__(self):\n",
        "    super(MNISTNet, self).__init__()\n",
        "    self.input_layer = nn.Linear(28*28, 128) # flattens image to 784 values and connects it to 128 neurons\n",
        "    self.hidden_layer_one = nn.Linear(128,64) # takes the 128 from layer above and looks for simple shape patterns\n",
        "    self.hidden_layer_two = nn.Linear(64,32) # takes 64 from layer above and looks for more complex patterns\n",
        "    self.output = nn.Linear(32,10)\n",
        "  def forward(self, image):# defining how the data flows\n",
        "    image = image.view(-1, 28*28) #flattens\n",
        "    image = F.relu(self.input_layer(image)) #input layer and activation\n",
        "    image = F.relu(self.hidden_layer_one(image)) #hidden layer 1 and activation\n",
        "    image = F.relu(self.hidden_layer_two(image)) #hidden layer 2 and activation\n",
        "    image = self.output(image)\n",
        "    return image\n",
        "\n",
        "# Step 5: Get Images from Test so that you can see the images/dataset\n",
        "data_iter = iter(testing_loader)\n",
        "images, labels = next(data_iter) # gets the first batch\n",
        "\n",
        "def imshow(image, label=None, pred=None):\n",
        "    image = image / 2 + 0.5  # unnormalizes data [-1,1] to [0,1]\n",
        "    np_img = image.numpy()\n",
        "    plt.imshow(np_img, cmap='gray')\n",
        "    title = ''\n",
        "    if label is not None:\n",
        "        title += f\"Label: {label}\"\n",
        "    if pred is not None:\n",
        "        title += f\", Pred: {pred}\"\n",
        "    plt.title(title)\n",
        "    plt.axis('off')\n",
        "    plt.show()\n",
        "\n",
        "\n",
        "# Step 6: Create the Training loop\n",
        "\n",
        "model = MNISTNet()\n",
        "criterion = nn.CrossEntropyLoss()\n",
        "optimizer = optim.Adam(model.parameters(), lr=0.001)\n",
        "\n",
        "\n",
        "for epoch in range(5): #training loop\n",
        "    running_loss = 0.0\n",
        "    for images, labels in training_loader: #for each batch loop\n",
        "        outputs = model(images) #forward pass\n",
        "        loss = criterion(outputs, labels) # compute loss\n",
        "\n",
        "        optimizer.zero_grad() #back propagate\n",
        "        loss.backward()\n",
        "\n",
        "        optimizer.step() #update weight\n",
        "\n",
        "        running_loss += loss.item()\n",
        "\n",
        "    print(f\"Epoch [{epoch+1}/{5}], Loss: {running_loss/len(training_loader):.4f}\")\n",
        "\n",
        "# Step 7: Test the Data\n",
        "correct = 0\n",
        "total = 0\n",
        "model.eval()  # sets the model to evaluation mode\n",
        "with torch.no_grad(): # gradient not needed for test\n",
        "    for images, labels in testing_loader:\n",
        "        outputs = model(images) #forward pass\n",
        "        _, predicted = torch.max(outputs.data, 1) #max score index\n",
        "        total += labels.size(0) # counts total test images\n",
        "        correct += (predicted == labels).sum().item() #counts correct predictions\n",
        "\n",
        "# Step 8: Print Accuracy\n",
        "accuracy = 100 * correct / total\n",
        "print(f\"Test Accuracy: {accuracy:.2f}%\")\n",
        "for i in range(5):\n",
        "    imshow(images[i].squeeze(), label=labels[i].item(), pred=predicted[i].item())\n",
        "\n",
        "\n"
      ]
    }
  ]
}
