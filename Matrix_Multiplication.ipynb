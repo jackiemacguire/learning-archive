{
  "nbformat": 4,
  "nbformat_minor": 0,
  "metadata": {
    "colab": {
      "provenance": [],
      "gpuType": "T4",
      "authorship_tag": "ABX9TyNne+eY9lj8Xn2nme3VWIb2",
      "include_colab_link": true
    },
    "kernelspec": {
      "name": "python3",
      "display_name": "Python 3"
    },
    "language_info": {
      "name": "python"
    },
    "accelerator": "GPU"
  },
  "cells": [
    {
      "cell_type": "markdown",
      "metadata": {
        "id": "view-in-github",
        "colab_type": "text"
      },
      "source": [
        "<a href=\"https://colab.research.google.com/github/jackiemacguire/learning-archive/blob/main/Matrix_Multiplication.ipynb\" target=\"_parent\"><img src=\"https://colab.research.google.com/assets/colab-badge.svg\" alt=\"Open In Colab\"/></a>"
      ]
    },
    {
      "cell_type": "code",
      "source": [
        "# Step 1: Checks GPU and Allows C++\n",
        "!nvidia-smi\n",
        "!nvcc --version\n",
        "\n",
        "# Makes it C++ Code and Import\n"
      ],
      "metadata": {
        "colab": {
          "base_uri": "https://localhost:8080/"
        },
        "id": "9NUBDshtyruv",
        "outputId": "8504fe5f-2abe-4282-a455-1266d6f22732"
      },
      "execution_count": 21,
      "outputs": [
        {
          "output_type": "stream",
          "name": "stdout",
          "text": [
            "Sat Oct 11 20:01:37 2025       \n",
            "+-----------------------------------------------------------------------------------------+\n",
            "| NVIDIA-SMI 550.54.15              Driver Version: 550.54.15      CUDA Version: 12.4     |\n",
            "|-----------------------------------------+------------------------+----------------------+\n",
            "| GPU  Name                 Persistence-M | Bus-Id          Disp.A | Volatile Uncorr. ECC |\n",
            "| Fan  Temp   Perf          Pwr:Usage/Cap |           Memory-Usage | GPU-Util  Compute M. |\n",
            "|                                         |                        |               MIG M. |\n",
            "|=========================================+========================+======================|\n",
            "|   0  Tesla T4                       Off |   00000000:00:04.0 Off |                    0 |\n",
            "| N/A   42C    P8              9W /   70W |       0MiB /  15360MiB |      0%      Default |\n",
            "|                                         |                        |                  N/A |\n",
            "+-----------------------------------------+------------------------+----------------------+\n",
            "                                                                                         \n",
            "+-----------------------------------------------------------------------------------------+\n",
            "| Processes:                                                                              |\n",
            "|  GPU   GI   CI        PID   Type   Process name                              GPU Memory |\n",
            "|        ID   ID                                                               Usage      |\n",
            "|=========================================================================================|\n",
            "|  No running processes found                                                             |\n",
            "+-----------------------------------------------------------------------------------------+\n",
            "nvcc: NVIDIA (R) Cuda compiler driver\n",
            "Copyright (c) 2005-2024 NVIDIA Corporation\n",
            "Built on Thu_Jun__6_02:18:23_PDT_2024\n",
            "Cuda compilation tools, release 12.5, V12.5.82\n",
            "Build cuda_12.5.r12.5/compiler.34385749_0\n"
          ]
        }
      ]
    },
    {
      "cell_type": "code",
      "execution_count": 28,
      "metadata": {
        "id": "Uxe6s35IcpiS",
        "colab": {
          "base_uri": "https://localhost:8080/"
        },
        "outputId": "abbc1350-a088-4cf4-eb2e-4e103fb6329a"
      },
      "outputs": [
        {
          "output_type": "stream",
          "name": "stdout",
          "text": [
            "Overwriting matrixMul.cu\n"
          ]
        }
      ],
      "source": [
        "%%writefile matrixMul.cu\n",
        "#include <iostream>\n",
        "#include <cuda_runtime.h>\n",
        "#include <cstdlib>\n",
        "#include <ctime>\n",
        "\n",
        "// Step 3: Define GPU Kernel\n",
        "__global__ void matrixMultiplicationKernel(float *a, float *b, float *c, int m, int n, int p){\n",
        "\n",
        "  /* to compute a unique (row, column) for every thread across the whole grid\n",
        "     you multiply the block index by the size of the block and add the thread offset */\n",
        "\n",
        "  int row = blockIdx.y * blockDim.y + threadIdx.y;\n",
        "  int column = blockIdx.x * blockDim.x + threadIdx.x;\n",
        "\n",
        "// checking if matrices can be multiplied together\n",
        "  if(row < m && column < n){    // if they can, the matrices are flattened into 1d arrays\n",
        "    float sum_of_c = 0.0;\n",
        "    for(int i = 0; i < p; i++){\n",
        "      sum_of_c += a[row * p + i] * b[i * n + column];\n",
        "    }\n",
        "    c[row * n + column] = sum_of_c;\n",
        "  }\n",
        "}\n",
        "\n",
        "\n",
        "// Step 4: cpu code\n",
        "int main(){\n",
        "\n",
        "  // defining matrix dimensions (predetermining sizes)\n",
        "  int m = 4; // row 'a' and 'c' size\n",
        "  int p = 3; // column size of 'a' and row size of 'b'\n",
        "  int n = 4; // column 'b' and 'c' size\n",
        "\n",
        "  // allocating cpu memory using malloc()\n",
        "  float *h_a = (float*)malloc(m * p * sizeof(float));\n",
        "  float *h_b = (float*)malloc(p * n * sizeof(float));\n",
        "  float *h_c = (float*)malloc(m * n * sizeof(float));\n",
        "\n",
        "  // initialize matrices with data that is randomized\n",
        "  srand(time(0));\n",
        "  for(int j=0; j < m * p; j++)\n",
        "    h_a[j]= rand() % 10; // 0-9\n",
        "  for(int j=0; j < p * n; j++)\n",
        "    h_b[j]=rand() % 10;\n",
        "\n",
        "\n",
        "  // Print A =\n",
        "  std::cout << \"Matrix A (\" << m << \"x\" << p << \"):\" << std::endl;\n",
        "  for (int i = 0; i < m; i++) {\n",
        "      for (int j = 0; j < p; j++) {\n",
        "          std::cout << h_a[i * p + j] << \"\\t\";\n",
        "      }\n",
        "      std::cout << std::endl;\n",
        "  }\n",
        "\n",
        "\n",
        "  // Print B =\n",
        "  std::cout << \"\\nMatrix B (\" << p << \"x\" << n << \"):\" << std::endl;\n",
        "  for (int i = 0; i < p; i++) {\n",
        "      for (int j = 0; j < n; j++) {\n",
        "          std::cout << h_b[i * n + j] << \"\\t\";\n",
        "      }\n",
        "      std::cout << std::endl;\n",
        "    }\n",
        "\n",
        "\n",
        "  // allocating gpu memory\n",
        "  float *d_a, *d_b, *d_c;\n",
        "  cudaMalloc(&d_a, m*p*sizeof(float));\n",
        "  cudaMalloc(&d_b, p*n*sizeof(float));\n",
        "  cudaMalloc(&d_c, m*n*sizeof(float));\n",
        "\n",
        "  // copy data to gpu\n",
        "  cudaMemcpy(d_a, h_a, m*p*sizeof(float), cudaMemcpyHostToDevice);\n",
        "  cudaMemcpy(d_b, h_b, p*n*sizeof(float), cudaMemcpyHostToDevice);\n",
        "\n",
        "  // threads and block\n",
        "  //dim3 = data type in cuda (x,y,z), (16, 16) because ..., (n+15)/16, (m+15)/16;\n",
        "\n",
        "  dim3 threadsPerBlock(16,16);\n",
        "  dim3 blocksPerGrid((n+15)/16, (m+15)/16);\n",
        "\n",
        "  // launch kernel\n",
        "  matrixMultiplicationKernel<<<blocksPerGrid, threadsPerBlock>>>(d_a, d_b, d_c, m,n,p);\n",
        "\n",
        "  // copy back to cpu\n",
        "  cudaMemcpy(h_c, d_c, m*n*sizeof(float), cudaMemcpyDeviceToHost);\n",
        "\n",
        "  // print c\n",
        "  std::cout << \"\\nC = A * B (4x4): \" << std::endl;\n",
        "  for (int i=0; i<m; i++){\n",
        "    for(int j=0; j<n; j++){\n",
        "      std::cout<<h_c[i*n+j]<<\"\\t\";\n",
        "    }\n",
        "    std::cout<<std::endl;\n",
        "  }\n",
        "\n",
        "  // free cpu and gpu memory\n",
        "  cudaFree(d_a);\n",
        "  cudaFree(d_b);\n",
        "  cudaFree(d_c);\n",
        "\n",
        "  free(h_a);\n",
        "  free(h_b);\n",
        "  free(h_c);\n",
        "\n",
        "  return 0;\n",
        "\n",
        "}\n"
      ]
    },
    {
      "cell_type": "code",
      "source": [
        "# Step 5: compile cuda code\n",
        "!nvcc -gencode=arch=compute_75,code=sm_75 matrixMul.cu -o matrixMul\n",
        "\n",
        "# Step 6: run\n",
        "!./matrixMul\n"
      ],
      "metadata": {
        "id": "HuQa8Y5Na2b3",
        "colab": {
          "base_uri": "https://localhost:8080/"
        },
        "outputId": "d503fcce-097c-4b14-a499-98afb5558377"
      },
      "execution_count": 29,
      "outputs": [
        {
          "output_type": "stream",
          "name": "stdout",
          "text": [
            "Matrix A (4x3):\n",
            "4\t4\t7\t\n",
            "5\t8\t7\t\n",
            "4\t9\t9\t\n",
            "5\t4\t7\t\n",
            "\n",
            "Matrix B (3x4):\n",
            "3\t3\t8\t1\t\n",
            "1\t5\t2\t4\t\n",
            "1\t5\t0\t5\t\n",
            "\n",
            "C = A * B (4x4): \n",
            "23\t67\t40\t55\t\n",
            "30\t90\t56\t72\t\n",
            "30\t102\t50\t85\t\n",
            "26\t70\t48\t56\t\n"
          ]
        }
      ]
    },
    {
      "cell_type": "code",
      "source": [],
      "metadata": {
        "id": "vKcNFsO_vOh-"
      },
      "execution_count": null,
      "outputs": []
    }
  ]
}